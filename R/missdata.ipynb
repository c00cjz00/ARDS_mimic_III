{
 "cells": [
  {
   "cell_type": "code",
   "execution_count": 17,
   "metadata": {},
   "outputs": [],
   "source": [
    "require(\"colorspace\")\n",
    "require(\"grid\")\n",
    "require(\"data.table\")\n",
    "require(\"DBI\")\n",
    "require(\"RPostgreSQL\")"
   ]
  },
  {
   "cell_type": "code",
   "execution_count": 3,
   "metadata": {
    "collapsed": true
   },
   "outputs": [],
   "source": [
    "drv<-dbDriver(\"PostgreSQL\")"
   ]
  },
  {
   "cell_type": "code",
   "execution_count": 8,
   "metadata": {},
   "outputs": [
    {
     "data": {
      "text/plain": [
       "<PostgreSQLResult>"
      ]
     },
     "metadata": {},
     "output_type": "display_data"
    }
   ],
   "source": [
    "con<-dbConnect(drv,dbname=\"mimic\",host=\"192.168.8.103\",port=5432,\n",
    "              user=\"postgres\",password=\"19871115\")\n",
    "dbSendQuery(con,'set search_path to mimiciii')"
   ]
  },
  {
   "cell_type": "code",
   "execution_count": 10,
   "metadata": {},
   "outputs": [
    {
     "data": {
      "text/html": [
       "<ol class=list-inline>\n",
       "\t<li>'chartevents_1'</li>\n",
       "\t<li>'chartevents_2'</li>\n",
       "\t<li>'chartevents_3'</li>\n",
       "\t<li>'chartevents_4'</li>\n",
       "\t<li>'chartevents_5'</li>\n",
       "\t<li>'chartevents_6'</li>\n",
       "\t<li>'chartevents_7'</li>\n",
       "\t<li>'chartevents_8'</li>\n",
       "\t<li>'chartevents_9'</li>\n",
       "\t<li>'chartevents_10'</li>\n",
       "\t<li>'chartevents_11'</li>\n",
       "\t<li>'chartevents_12'</li>\n",
       "\t<li>'chartevents_13'</li>\n",
       "\t<li>'chartevents_14'</li>\n",
       "\t<li>'d_cpt'</li>\n",
       "\t<li>'d_icd_diagnoses'</li>\n",
       "\t<li>'d_icd_procedures'</li>\n",
       "\t<li>'noteevents'</li>\n",
       "\t<li>'prescriptions'</li>\n",
       "\t<li>'inputevents_mv'</li>\n",
       "\t<li>'labevents'</li>\n",
       "\t<li>'transfers'</li>\n",
       "\t<li>'microbiologyevents'</li>\n",
       "\t<li>'outputevents'</li>\n",
       "\t<li>'procedureevents_mv'</li>\n",
       "\t<li>'procedures_icd'</li>\n",
       "\t<li>'services'</li>\n",
       "\t<li>'diagnoses_icd'</li>\n",
       "\t<li>'chartevents'</li>\n",
       "\t<li>'d_labitems'</li>\n",
       "\t<li>'d_items'</li>\n",
       "\t<li>'inputevents_cv'</li>\n",
       "\t<li>'callout'</li>\n",
       "\t<li>'patients'</li>\n",
       "\t<li>'cptevents'</li>\n",
       "\t<li>'drgcodes'</li>\n",
       "\t<li>'datetimeevents'</li>\n",
       "\t<li>'admissions'</li>\n",
       "\t<li>'caregivers'</li>\n",
       "\t<li>'icustays'</li>\n",
       "\t<li>'icdall'</li>\n",
       "\t<li>'icd51881'</li>\n",
       "\t<li>'para_id'</li>\n",
       "\t<li>'para_update'</li>\n",
       "\t<li>'ventdurations'</li>\n",
       "\t<li>'ccs_single_level_dx'</li>\n",
       "\t<li>'ccs_multi_level_dx'</li>\n",
       "</ol>\n"
      ],
      "text/latex": [
       "\\begin{enumerate*}\n",
       "\\item 'chartevents\\_1'\n",
       "\\item 'chartevents\\_2'\n",
       "\\item 'chartevents\\_3'\n",
       "\\item 'chartevents\\_4'\n",
       "\\item 'chartevents\\_5'\n",
       "\\item 'chartevents\\_6'\n",
       "\\item 'chartevents\\_7'\n",
       "\\item 'chartevents\\_8'\n",
       "\\item 'chartevents\\_9'\n",
       "\\item 'chartevents\\_10'\n",
       "\\item 'chartevents\\_11'\n",
       "\\item 'chartevents\\_12'\n",
       "\\item 'chartevents\\_13'\n",
       "\\item 'chartevents\\_14'\n",
       "\\item 'd\\_cpt'\n",
       "\\item 'd\\_icd\\_diagnoses'\n",
       "\\item 'd\\_icd\\_procedures'\n",
       "\\item 'noteevents'\n",
       "\\item 'prescriptions'\n",
       "\\item 'inputevents\\_mv'\n",
       "\\item 'labevents'\n",
       "\\item 'transfers'\n",
       "\\item 'microbiologyevents'\n",
       "\\item 'outputevents'\n",
       "\\item 'procedureevents\\_mv'\n",
       "\\item 'procedures\\_icd'\n",
       "\\item 'services'\n",
       "\\item 'diagnoses\\_icd'\n",
       "\\item 'chartevents'\n",
       "\\item 'd\\_labitems'\n",
       "\\item 'd\\_items'\n",
       "\\item 'inputevents\\_cv'\n",
       "\\item 'callout'\n",
       "\\item 'patients'\n",
       "\\item 'cptevents'\n",
       "\\item 'drgcodes'\n",
       "\\item 'datetimeevents'\n",
       "\\item 'admissions'\n",
       "\\item 'caregivers'\n",
       "\\item 'icustays'\n",
       "\\item 'icdall'\n",
       "\\item 'icd51881'\n",
       "\\item 'para\\_id'\n",
       "\\item 'para\\_update'\n",
       "\\item 'ventdurations'\n",
       "\\item 'ccs\\_single\\_level\\_dx'\n",
       "\\item 'ccs\\_multi\\_level\\_dx'\n",
       "\\end{enumerate*}\n"
      ],
      "text/markdown": [
       "1. 'chartevents_1'\n",
       "2. 'chartevents_2'\n",
       "3. 'chartevents_3'\n",
       "4. 'chartevents_4'\n",
       "5. 'chartevents_5'\n",
       "6. 'chartevents_6'\n",
       "7. 'chartevents_7'\n",
       "8. 'chartevents_8'\n",
       "9. 'chartevents_9'\n",
       "10. 'chartevents_10'\n",
       "11. 'chartevents_11'\n",
       "12. 'chartevents_12'\n",
       "13. 'chartevents_13'\n",
       "14. 'chartevents_14'\n",
       "15. 'd_cpt'\n",
       "16. 'd_icd_diagnoses'\n",
       "17. 'd_icd_procedures'\n",
       "18. 'noteevents'\n",
       "19. 'prescriptions'\n",
       "20. 'inputevents_mv'\n",
       "21. 'labevents'\n",
       "22. 'transfers'\n",
       "23. 'microbiologyevents'\n",
       "24. 'outputevents'\n",
       "25. 'procedureevents_mv'\n",
       "26. 'procedures_icd'\n",
       "27. 'services'\n",
       "28. 'diagnoses_icd'\n",
       "29. 'chartevents'\n",
       "30. 'd_labitems'\n",
       "31. 'd_items'\n",
       "32. 'inputevents_cv'\n",
       "33. 'callout'\n",
       "34. 'patients'\n",
       "35. 'cptevents'\n",
       "36. 'drgcodes'\n",
       "37. 'datetimeevents'\n",
       "38. 'admissions'\n",
       "39. 'caregivers'\n",
       "40. 'icustays'\n",
       "41. 'icdall'\n",
       "42. 'icd51881'\n",
       "43. 'para_id'\n",
       "44. 'para_update'\n",
       "45. 'ventdurations'\n",
       "46. 'ccs_single_level_dx'\n",
       "47. 'ccs_multi_level_dx'\n",
       "\n",
       "\n"
      ],
      "text/plain": [
       " [1] \"chartevents_1\"       \"chartevents_2\"       \"chartevents_3\"      \n",
       " [4] \"chartevents_4\"       \"chartevents_5\"       \"chartevents_6\"      \n",
       " [7] \"chartevents_7\"       \"chartevents_8\"       \"chartevents_9\"      \n",
       "[10] \"chartevents_10\"      \"chartevents_11\"      \"chartevents_12\"     \n",
       "[13] \"chartevents_13\"      \"chartevents_14\"      \"d_cpt\"              \n",
       "[16] \"d_icd_diagnoses\"     \"d_icd_procedures\"    \"noteevents\"         \n",
       "[19] \"prescriptions\"       \"inputevents_mv\"      \"labevents\"          \n",
       "[22] \"transfers\"           \"microbiologyevents\"  \"outputevents\"       \n",
       "[25] \"procedureevents_mv\"  \"procedures_icd\"      \"services\"           \n",
       "[28] \"diagnoses_icd\"       \"chartevents\"         \"d_labitems\"         \n",
       "[31] \"d_items\"             \"inputevents_cv\"      \"callout\"            \n",
       "[34] \"patients\"            \"cptevents\"           \"drgcodes\"           \n",
       "[37] \"datetimeevents\"      \"admissions\"          \"caregivers\"         \n",
       "[40] \"icustays\"            \"icdall\"              \"icd51881\"           \n",
       "[43] \"para_id\"             \"para_update\"         \"ventdurations\"      \n",
       "[46] \"ccs_single_level_dx\" \"ccs_multi_level_dx\" "
      ]
     },
     "metadata": {},
     "output_type": "display_data"
    }
   ],
   "source": [
    "dbListTables(con)"
   ]
  },
  {
   "cell_type": "code",
   "execution_count": 19,
   "metadata": {
    "collapsed": true
   },
   "outputs": [],
   "source": [
    "matchvalue=dbGetQuery(con,\"select * from matchvalue limit 1000\")"
   ]
  },
  {
   "cell_type": "code",
   "execution_count": 18,
   "metadata": {},
   "outputs": [],
   "source": [
    "library(\"VIM\")"
   ]
  },
  {
   "cell_type": "code",
   "execution_count": 20,
   "metadata": {},
   "outputs": [
    {
     "name": "stderr",
     "output_type": "stream",
     "text": [
      "Warning message in plot.aggr(res, ...):\n",
      "\"not enough vertical space to display frequencies (too many combinations)\""
     ]
    },
    {
     "data": {
      "image/png": "[encoded data removed]",
      "text/plain": [
       "plot without title"
      ]
     },
     "metadata": {},
     "output_type": "display_data"
    }
   ],
   "source": [
    "aggr(matchvalue,prop=FALSE,numbers=TRUE)"
   ]
  },
  {
   "cell_type": "code",
   "execution_count": null,
   "metadata": {
    "collapsed": true
   },
   "outputs": [],
   "source": []
  }
 ],
 "metadata": {
  "kernelspec": {
   "display_name": "R",
   "language": "R",
   "name": "ir"
  },
  "language_info": {
   "codemirror_mode": "r",
   "file_extension": ".r",
   "mimetype": "text/x-r-source",
   "name": "R",
   "pygments_lexer": "r",
   "version": "3.4.2"
  }
 },
 "nbformat": 4,
 "nbformat_minor": 2
}
